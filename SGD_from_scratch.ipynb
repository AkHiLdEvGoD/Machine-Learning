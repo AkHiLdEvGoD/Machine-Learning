{
 "cells": [
  {
   "cell_type": "code",
   "execution_count": 46,
   "id": "021bbed0-9898-478f-9ac9-74b865b0a678",
   "metadata": {},
   "outputs": [],
   "source": [
    "import numpy as np\n",
    "import time\n",
    "from sklearn.datasets import load_diabetes"
   ]
  },
  {
   "cell_type": "code",
   "execution_count": 47,
   "id": "87d65aa1-c68e-4d86-944f-962e708633cc",
   "metadata": {},
   "outputs": [
    {
     "name": "stdout",
     "output_type": "stream",
     "text": [
      "(442, 10)\n",
      "(442,)\n"
     ]
    }
   ],
   "source": [
    "X,y = load_diabetes(return_X_y=True)\n",
    "print(X.shape)\n",
    "print(y.shape)"
   ]
  },
  {
   "cell_type": "code",
   "execution_count": 48,
   "id": "12a384c2-6a2b-4cf7-9e8b-81dc8b7f5b7f",
   "metadata": {},
   "outputs": [
    {
     "name": "stdout",
     "output_type": "stream",
     "text": [
      "(331, 10)\n",
      "(331,)\n",
      "(111, 10)\n",
      "(111,)\n"
     ]
    }
   ],
   "source": [
    "from sklearn.model_selection import train_test_split\n",
    "X_train,X_test,y_train,y_test = train_test_split(X,y,test_size=0.25,random_state=42)\n",
    "print(X_train.shape)\n",
    "print(y_train.shape)\n",
    "print(X_test.shape)\n",
    "print(y_test.shape)"
   ]
  },
  {
   "cell_type": "code",
   "execution_count": 49,
   "id": "2c848357-18da-4d13-9ae2-6a2821c50f66",
   "metadata": {},
   "outputs": [
    {
     "name": "stdout",
     "output_type": "stream",
     "text": [
      "Weights : [  59.18386346  -33.81361485  249.6306848   182.18034425   22.94651317\n",
      "    4.61532329 -148.65220805  134.59549811  206.23683958  120.9875356 ]\n",
      "\n",
      "Intercept : [152.53412971]\n",
      "r2 : 0.4315597435625851\n"
     ]
    },
    {
     "name": "stderr",
     "output_type": "stream",
     "text": [
      "C:\\Users\\akhde\\AppData\\Local\\Programs\\Python\\Python312\\Lib\\site-packages\\sklearn\\linear_model\\_stochastic_gradient.py:1616: ConvergenceWarning: Maximum number of iteration reached before convergence. Consider increasing max_iter to improve the fit.\n",
      "  warnings.warn(\n"
     ]
    }
   ],
   "source": [
    "from sklearn.linear_model import SGDRegressor\n",
    "from sklearn.metrics import r2_score\n",
    "\n",
    "sgd = SGDRegressor()\n",
    "sgd.fit(X_train,y_train)\n",
    "\n",
    "print('Weights :',sgd.coef_)\n",
    "print('\\nIntercept :',sgd.intercept_)\n",
    "\n",
    "r2 = r2_score(y_test,sgd.predict(X_test))\n",
    "print('r2 :',r2)"
   ]
  },
  {
   "cell_type": "code",
   "execution_count": 77,
   "id": "5436dd7f-813b-4e42-9c9c-2541dc5c4739",
   "metadata": {},
   "outputs": [],
   "source": [
    "class SGD:\n",
    "    def __init__(self,epochs=100,learing_rate=0.01):\n",
    "        self.epochs = epochs\n",
    "        self.lr = learing_rate\n",
    "        self.weight = None\n",
    "        self.intercept = None\n",
    "\n",
    "    # def learning_schedule(self,t):\n",
    "    #     t0,t1=5,50\n",
    "    #     return t0/pow((t+1e+3),t1)\n",
    "        \n",
    "    def fit(self,X,y):\n",
    "        self.intercept = 0\n",
    "        self.weight = np.ones(X.shape[1])\n",
    "\n",
    "        for i in range(self.epochs):\n",
    "            for j in range(X.shape[0]):\n",
    "                # self.lr = self.learning_schedule(i * X.shape[0] + j)\n",
    "                idx = np.random.randint(0,X.shape[0])\n",
    "                y_hat = np.dot(X[idx],self.weight) + self.intercept\n",
    "                \n",
    "                int_slope = -2 * (y[idx] - y_hat)\n",
    "                self.intercept = self.intercept - (self.lr * int_slope)\n",
    "\n",
    "                wgt_slope = -2 * np.dot((y[idx] - y_hat),X[idx])\n",
    "                self.weight = self.weight - (self.lr * wgt_slope)\n",
    "\n",
    "        print('Weights :',self.weight)\n",
    "        print('\\nIntercept :',self.intercept)\n",
    "\n",
    "    def predict(self,X):\n",
    "        return np.dot(X,self.weight) + self.intercept"
   ]
  },
  {
   "cell_type": "code",
   "execution_count": 83,
   "id": "5a82a1d9-a4fd-4434-9322-fbd2a1c6210b",
   "metadata": {},
   "outputs": [],
   "source": [
    "class SGDReg:\n",
    "    \n",
    "    def __init__(self,learning_rate=0.01,epochs=100):\n",
    "        \n",
    "        self.coef_ = None\n",
    "        self.intercept_ = None\n",
    "        self.lr = learning_rate\n",
    "        self.epochs = epochs\n",
    "        \n",
    "    def fit(self,X_train,y_train):\n",
    "        # init your coefs\n",
    "        self.intercept_ = 0\n",
    "        self.coef_ = np.ones(X_train.shape[1])\n",
    "        \n",
    "        for i in range(self.epochs):\n",
    "            for j in range(X_train.shape[0]):\n",
    "                idx = np.random.randint(0,X_train.shape[0])\n",
    "                \n",
    "                y_hat = np.dot(X_train[idx],self.coef_) + self.intercept_\n",
    "                \n",
    "                intercept_der = -2 * (y_train[idx] - y_hat)\n",
    "                self.intercept_ = self.intercept_ - (self.lr * intercept_der)\n",
    "                \n",
    "                coef_der = -2 * np.dot((y_train[idx] - y_hat),X_train[idx])\n",
    "                self.coef_ = self.coef_ - (self.lr * coef_der)\n",
    "        \n",
    "        print(self.intercept_,self.coef_)\n",
    "    \n",
    "    def predict(self,X_test):\n",
    "        return np.dot(X_test,self.coef_) + self.intercept_"
   ]
  },
  {
   "cell_type": "code",
   "execution_count": 84,
   "id": "66911c6a-cb77-4448-8271-71e5b227d0c2",
   "metadata": {},
   "outputs": [
    {
     "name": "stdout",
     "output_type": "stream",
     "text": [
      "152.07040848103608 [  70.32871791  -64.54677451  317.83180079  221.70445946    1.3961632\n",
      "  -19.32433736 -174.79945793  142.10069828  240.25324294  124.23317031]\n",
      "r2 : -0.6886434668053278\n"
     ]
    }
   ],
   "source": [
    "reg1 = SGDReg(epochs=40,learning_rate=0.01)\n",
    "reg1.fit(X_train,y_train)\n",
    "\n",
    "pred = reg1.predict(X_test)\n",
    "r2 = r2_score(pred,y_test)\n",
    "\n",
    "print('r2 :',r2)"
   ]
  },
  {
   "cell_type": "code",
   "execution_count": null,
   "id": "d2c293f2-6883-4566-a6d6-acb1e575a0da",
   "metadata": {},
   "outputs": [],
   "source": []
  },
  {
   "cell_type": "code",
   "execution_count": null,
   "id": "488de08b-b818-4858-94c5-f8cbccdaabe9",
   "metadata": {},
   "outputs": [],
   "source": []
  }
 ],
 "metadata": {
  "kernelspec": {
   "display_name": "Python 3 (ipykernel)",
   "language": "python",
   "name": "python3"
  },
  "language_info": {
   "codemirror_mode": {
    "name": "ipython",
    "version": 3
   },
   "file_extension": ".py",
   "mimetype": "text/x-python",
   "name": "python",
   "nbconvert_exporter": "python",
   "pygments_lexer": "ipython3",
   "version": "3.12.1"
  }
 },
 "nbformat": 4,
 "nbformat_minor": 5
}
