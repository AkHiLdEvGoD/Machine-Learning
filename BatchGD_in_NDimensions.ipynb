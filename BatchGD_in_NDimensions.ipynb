{
 "cells": [
  {
   "cell_type": "code",
   "execution_count": 1,
   "id": "b724722d-3947-4fb3-a4d5-da5ab9dc0742",
   "metadata": {},
   "outputs": [],
   "source": [
    "import numpy as np\n",
    "from sklearn.datasets import load_diabetes\n",
    "from sklearn.linear_model import LinearRegression\n",
    "from sklearn.metrics import r2_score\n",
    "import time"
   ]
  },
  {
   "cell_type": "code",
   "execution_count": 2,
   "id": "2a230c39-79e8-42f9-bc12-8317a9f20e98",
   "metadata": {},
   "outputs": [
    {
     "name": "stdout",
     "output_type": "stream",
     "text": [
      "(442, 10)\n",
      "(442,)\n"
     ]
    }
   ],
   "source": [
    "X,y = load_diabetes(return_X_y=True)\n",
    "print(X.shape)\n",
    "print(y.shape)"
   ]
  },
  {
   "cell_type": "code",
   "execution_count": 3,
   "id": "ddc628d4-c8a2-4e21-9268-9f6e3dcc0b13",
   "metadata": {},
   "outputs": [
    {
     "name": "stdout",
     "output_type": "stream",
     "text": [
      "(309, 10)\n",
      "(309,)\n",
      "(133, 10)\n",
      "(133,)\n"
     ]
    }
   ],
   "source": [
    "from sklearn.model_selection import train_test_split\n",
    "X_train,X_test,y_train,y_test = train_test_split(X,y,test_size=0.3,random_state=42)\n",
    "print(X_train.shape)\n",
    "print(y_train.shape)\n",
    "print(X_test.shape)\n",
    "print(y_test.shape)"
   ]
  },
  {
   "cell_type": "code",
   "execution_count": 4,
   "id": "3d2f107d-5d24-46c5-99bb-18dcf081e87a",
   "metadata": {},
   "outputs": [
    {
     "name": "stdout",
     "output_type": "stream",
     "text": [
      "Coefficients : [  29.25401303 -261.7064691   546.29972304  388.39834056 -901.95966819\n",
      "  506.76324136  121.15435079  288.03526689  659.26895081   41.37670105]\n",
      "\n",
      "Intercept : 151.00821291456543\n",
      "\n",
      "Time taken for code execution : 0.0019996166229248047\n",
      "\n",
      "r2 score : 0.4772897164322617\n"
     ]
    }
   ],
   "source": [
    "# Using Sklearn LinearRegression\n",
    "start_time = time.time()\n",
    "lr = LinearRegression()\n",
    "lr.fit(X_train,y_train)\n",
    "end_time = time.time()\n",
    "y_pred = lr.predict(X_test)\n",
    "\n",
    "print('Coefficients :',lr.coef_)\n",
    "print('\\nIntercept :',lr.intercept_)\n",
    "print('\\nTime taken for code execution :',(end_time-start_time))\n",
    "print('\\nr2 score :',r2_score(y_test,y_pred))"
   ]
  },
  {
   "cell_type": "code",
   "execution_count": 5,
   "id": "d3d5c3d9-2a7d-4588-a1c9-9b4c56b8ec8a",
   "metadata": {},
   "outputs": [],
   "source": [
    "## Brute Force implementation \n",
    "class GradientDescent_ndim:\n",
    "    def __init__(self,learning_rate = 0.01,epochs=100):\n",
    "        self.lr = learning_rate\n",
    "        self.epochs = epochs\n",
    "        self.int_ = None\n",
    "        self.weight_ = None\n",
    "\n",
    "    def fit(self,X,y):\n",
    "        self.int_ = 0\n",
    "        self.weight_ = np.ones(X.shape[1])\n",
    "        start_time = time.time()\n",
    "\n",
    "        for i in range(self.epochs):\n",
    "            y_pred = np.dot(X,self.weight_) + self.int_\n",
    "            \n",
    "            int_slope = -2 * np.mean(y - y_pred)\n",
    "            self.int_ = self.int_ - (self.lr * int_slope)\n",
    "\n",
    "            weight_slope = -2 * np.dot((y - y_pred),X)/X.shape[0]\n",
    "            self.weight_ = self.weight_ - (self.lr * weight_slope)\n",
    "\n",
    "        end_time = time.time()\n",
    "        print('Weights :',self.weight_)\n",
    "        print('\\nIntercept :',self.int_)\n",
    "        print('\\nTime taken for code execution :',(end_time-start_time))\n",
    "\n",
    "    def predict(self,X):\n",
    "        return np.dot(X,self.weight_) + self.int_ "
   ]
  },
  {
   "cell_type": "code",
   "execution_count": 6,
   "id": "06569f11-8513-41ce-a954-21fd4fb28e83",
   "metadata": {},
   "outputs": [
    {
     "name": "stdout",
     "output_type": "stream",
     "text": [
      "Weights : [  59.3315676   -86.10167191  356.37106871  248.60821289   -2.24601662\n",
      "  -23.42665949 -189.98626011  153.89534866  252.66395109  143.94711816]\n",
      "\n",
      "Intercept : 151.2873857933141\n",
      "\n",
      "Time taken for code execution : 0.00600123405456543\n",
      "\n",
      "r2 score : 0.460900965278781\n"
     ]
    }
   ],
   "source": [
    "gdr = GradientDescent_ndim(learning_rate=0.8,epochs =200)\n",
    "gdr.fit(X_train,y_train)\n",
    "\n",
    "print('\\nr2 score :',r2_score(y_test,gdr.predict(X_test)))"
   ]
  }
 ],
 "metadata": {
  "kernelspec": {
   "display_name": "Python 3 (ipykernel)",
   "language": "python",
   "name": "python3"
  },
  "language_info": {
   "codemirror_mode": {
    "name": "ipython",
    "version": 3
   },
   "file_extension": ".py",
   "mimetype": "text/x-python",
   "name": "python",
   "nbconvert_exporter": "python",
   "pygments_lexer": "ipython3",
   "version": "3.12.1"
  }
 },
 "nbformat": 4,
 "nbformat_minor": 5
}
